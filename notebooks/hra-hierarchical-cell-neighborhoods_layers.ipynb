{
 "cells": [
  {
   "cell_type": "markdown",
   "metadata": {},
   "source": [
    "## HRA Hierarchical Tissue Unit Annotation"
   ]
  },
  {
   "cell_type": "markdown",
   "metadata": {},
   "source": [
    "In this notebook, we will build on [an existing one on hierarchical tissue unit annotation](https://github.com/HickeyLab/Hierarchical-Tissue-Unit-Annotation) by [Dr. John Hickey](https://bme.duke.edu/people/john-hickey/). Outputs from this workbook are featured in Fig. 3 in the paper titled \"Human BioMolecular Atlas Program (HuBMAP): 3D Human Reference Atlas Construction and Usage\" (accepted for publication in Nature Methods, see preprint [on bioRxiv](https://doi.org/10.1101/2024.03.27.587041)). In this notebook, we will create a Vasculature Common Coordinate Framework (VCCF) distance visualization for the same donor and region (B006, proximal jejunum) as in the paper, see below.\n",
    "\n",
    "<img src=\"images/fig_3_original.jpg\" width=\"400\">\n"
   ]
  },
  {
   "cell_type": "markdown",
   "metadata": {},
   "source": [
    "Concretely, we will take the original CSV file from Dryad with cell positions, types, donor IDs, and extraction sites, and then create a node-dist-vis widget plus a Cell Distance Explorer widget. For more information and documentation on hra-jupyter-widgets, please see [https://github.com/x-atlas-consortia/hra-jupyter-widgets/blob/main/usage.ipynb](https://github.com/x-atlas-consortia/hra-jupyter-widgets/blob/main/usage.ipynb)."
   ]
  },
  {
   "cell_type": "markdown",
   "metadata": {},
   "source": [
    "## Load libraries"
   ]
  },
  {
   "cell_type": "code",
   "execution_count": 1,
   "metadata": {},
   "outputs": [],
   "source": [
    "# Import native packages\n",
    "import os\n",
    "from pprint import pprint\n",
    "import csv"
   ]
  },
  {
   "cell_type": "code",
   "execution_count": 2,
   "metadata": {},
   "outputs": [
    {
     "name": "stdout",
     "output_type": "stream",
     "text": [
      "Requirement already satisfied: matplotlib in c:\\users\\abueckle\\documents\\github\\hra-notebooks\\.venv\\lib\\site-packages (3.9.2)\n",
      "Requirement already satisfied: pandas in c:\\users\\abueckle\\documents\\github\\hra-notebooks\\.venv\\lib\\site-packages (2.2.3)\n",
      "Requirement already satisfied: ipywidgets in c:\\users\\abueckle\\documents\\github\\hra-notebooks\\.venv\\lib\\site-packages (8.1.5)\n",
      "Requirement already satisfied: hra_jupyter_widgets in c:\\users\\abueckle\\documents\\github\\hra-notebooks\\.venv\\lib\\site-packages (0.4.0)\n",
      "Requirement already satisfied: contourpy>=1.0.1 in c:\\users\\abueckle\\documents\\github\\hra-notebooks\\.venv\\lib\\site-packages (from matplotlib) (1.3.1)\n",
      "Requirement already satisfied: cycler>=0.10 in c:\\users\\abueckle\\documents\\github\\hra-notebooks\\.venv\\lib\\site-packages (from matplotlib) (0.12.1)\n",
      "Requirement already satisfied: fonttools>=4.22.0 in c:\\users\\abueckle\\documents\\github\\hra-notebooks\\.venv\\lib\\site-packages (from matplotlib) (4.55.0)\n",
      "Requirement already satisfied: kiwisolver>=1.3.1 in c:\\users\\abueckle\\documents\\github\\hra-notebooks\\.venv\\lib\\site-packages (from matplotlib) (1.4.7)\n",
      "Requirement already satisfied: numpy>=1.23 in c:\\users\\abueckle\\documents\\github\\hra-notebooks\\.venv\\lib\\site-packages (from matplotlib) (2.1.3)\n",
      "Requirement already satisfied: packaging>=20.0 in c:\\users\\abueckle\\documents\\github\\hra-notebooks\\.venv\\lib\\site-packages (from matplotlib) (24.2)\n",
      "Requirement already satisfied: pillow>=8 in c:\\users\\abueckle\\documents\\github\\hra-notebooks\\.venv\\lib\\site-packages (from matplotlib) (11.0.0)\n",
      "Requirement already satisfied: pyparsing>=2.3.1 in c:\\users\\abueckle\\documents\\github\\hra-notebooks\\.venv\\lib\\site-packages (from matplotlib) (3.2.0)\n",
      "Requirement already satisfied: python-dateutil>=2.7 in c:\\users\\abueckle\\documents\\github\\hra-notebooks\\.venv\\lib\\site-packages (from matplotlib) (2.9.0.post0)\n",
      "Requirement already satisfied: pytz>=2020.1 in c:\\users\\abueckle\\documents\\github\\hra-notebooks\\.venv\\lib\\site-packages (from pandas) (2024.2)\n",
      "Requirement already satisfied: tzdata>=2022.7 in c:\\users\\abueckle\\documents\\github\\hra-notebooks\\.venv\\lib\\site-packages (from pandas) (2024.2)\n",
      "Requirement already satisfied: comm>=0.1.3 in c:\\users\\abueckle\\documents\\github\\hra-notebooks\\.venv\\lib\\site-packages (from ipywidgets) (0.2.2)\n",
      "Requirement already satisfied: ipython>=6.1.0 in c:\\users\\abueckle\\documents\\github\\hra-notebooks\\.venv\\lib\\site-packages (from ipywidgets) (8.29.0)\n",
      "Requirement already satisfied: traitlets>=4.3.1 in c:\\users\\abueckle\\documents\\github\\hra-notebooks\\.venv\\lib\\site-packages (from ipywidgets) (5.14.3)\n",
      "Requirement already satisfied: widgetsnbextension~=4.0.12 in c:\\users\\abueckle\\documents\\github\\hra-notebooks\\.venv\\lib\\site-packages (from ipywidgets) (4.0.13)\n",
      "Requirement already satisfied: jupyterlab-widgets~=3.0.12 in c:\\users\\abueckle\\documents\\github\\hra-notebooks\\.venv\\lib\\site-packages (from ipywidgets) (3.0.13)\n",
      "Requirement already satisfied: anywidget in c:\\users\\abueckle\\documents\\github\\hra-notebooks\\.venv\\lib\\site-packages (from hra_jupyter_widgets) (0.9.13)\n",
      "Requirement already satisfied: decorator in c:\\users\\abueckle\\documents\\github\\hra-notebooks\\.venv\\lib\\site-packages (from ipython>=6.1.0->ipywidgets) (5.1.1)\n",
      "Requirement already satisfied: jedi>=0.16 in c:\\users\\abueckle\\documents\\github\\hra-notebooks\\.venv\\lib\\site-packages (from ipython>=6.1.0->ipywidgets) (0.19.2)\n",
      "Requirement already satisfied: matplotlib-inline in c:\\users\\abueckle\\documents\\github\\hra-notebooks\\.venv\\lib\\site-packages (from ipython>=6.1.0->ipywidgets) (0.1.7)\n",
      "Requirement already satisfied: prompt-toolkit<3.1.0,>=3.0.41 in c:\\users\\abueckle\\documents\\github\\hra-notebooks\\.venv\\lib\\site-packages (from ipython>=6.1.0->ipywidgets) (3.0.48)\n",
      "Requirement already satisfied: pygments>=2.4.0 in c:\\users\\abueckle\\documents\\github\\hra-notebooks\\.venv\\lib\\site-packages (from ipython>=6.1.0->ipywidgets) (2.18.0)\n",
      "Requirement already satisfied: stack-data in c:\\users\\abueckle\\documents\\github\\hra-notebooks\\.venv\\lib\\site-packages (from ipython>=6.1.0->ipywidgets) (0.6.3)\n",
      "Requirement already satisfied: colorama in c:\\users\\abueckle\\documents\\github\\hra-notebooks\\.venv\\lib\\site-packages (from ipython>=6.1.0->ipywidgets) (0.4.6)\n",
      "Requirement already satisfied: six>=1.5 in c:\\users\\abueckle\\documents\\github\\hra-notebooks\\.venv\\lib\\site-packages (from python-dateutil>=2.7->matplotlib) (1.16.0)\n",
      "Requirement already satisfied: psygnal>=0.8.1 in c:\\users\\abueckle\\documents\\github\\hra-notebooks\\.venv\\lib\\site-packages (from anywidget->hra_jupyter_widgets) (0.11.1)\n",
      "Requirement already satisfied: typing-extensions>=4.2.0 in c:\\users\\abueckle\\documents\\github\\hra-notebooks\\.venv\\lib\\site-packages (from anywidget->hra_jupyter_widgets) (4.12.2)\n",
      "Requirement already satisfied: parso<0.9.0,>=0.8.4 in c:\\users\\abueckle\\documents\\github\\hra-notebooks\\.venv\\lib\\site-packages (from jedi>=0.16->ipython>=6.1.0->ipywidgets) (0.8.4)\n",
      "Requirement already satisfied: wcwidth in c:\\users\\abueckle\\documents\\github\\hra-notebooks\\.venv\\lib\\site-packages (from prompt-toolkit<3.1.0,>=3.0.41->ipython>=6.1.0->ipywidgets) (0.2.13)\n",
      "Requirement already satisfied: executing>=1.2.0 in c:\\users\\abueckle\\documents\\github\\hra-notebooks\\.venv\\lib\\site-packages (from stack-data->ipython>=6.1.0->ipywidgets) (2.1.0)\n",
      "Requirement already satisfied: asttokens>=2.1.0 in c:\\users\\abueckle\\documents\\github\\hra-notebooks\\.venv\\lib\\site-packages (from stack-data->ipython>=6.1.0->ipywidgets) (2.4.1)\n",
      "Requirement already satisfied: pure-eval in c:\\users\\abueckle\\documents\\github\\hra-notebooks\\.venv\\lib\\site-packages (from stack-data->ipython>=6.1.0->ipywidgets) (0.2.3)\n",
      "Note: you may need to restart the kernel to use updated packages.\n"
     ]
    }
   ],
   "source": [
    "#Install and import external packages\n",
    "%pip install matplotlib pandas ipywidgets hra_jupyter_widgets\n",
    "\n",
    "import matplotlib.pyplot as plt\n",
    "import pandas as pd\n",
    "import ipywidgets as widgets\n",
    "\n",
    "# Import hra-jupyter-widgets. For documentation, please see https://github.com/x-atlas-consortia/hra-jupyter-widgets/blob/main/usage.ipynb\n",
    "from hra_jupyter_widgets import CdeVisualization"
   ]
  },
  {
   "cell_type": "markdown",
   "metadata": {},
   "source": [
    "## Download data from Dryad"
   ]
  },
  {
   "cell_type": "markdown",
   "metadata": {},
   "source": [
    "Let's get the data from Dryad. Note that this is a ~3GB file. We will use `curl` to dowload it."
   ]
  },
  {
   "cell_type": "code",
   "execution_count": 3,
   "metadata": {},
   "outputs": [
    {
     "name": "stdout",
     "output_type": "stream",
     "text": [
      "Folder 'data/' already exists.\n",
      "File already exists at data//23_09_CODEX_HuBMAP_alldata_Dryad_merged.csv\n"
     ]
    }
   ],
   "source": [
    "# Make sure the data folder is present\n",
    "folder_path = \"data/\"\n",
    "\n",
    "if not os.path.exists(folder_path):\n",
    "    os.makedirs(folder_path)\n",
    "    print(f\"Folder '{folder_path}' created.\")\n",
    "else:\n",
    "    print(f\"Folder '{folder_path}' already exists.\")\n",
    "\n",
    "# Define the path to the file. \n",
    "file_path = f'{folder_path}/23_09_CODEX_HuBMAP_alldata_Dryad_merged.csv'\n",
    "\n",
    "# Check if the file exists\n",
    "if not os.path.exists(file_path):\n",
    "    # If the file doesn't exist, run the curl command\n",
    "    !curl -L https://datadryad.org/api/v2/files/2572152/download -o {file_path}\n",
    "    print(f\"File downloaded and saved at {file_path}\")\n",
    "else:\n",
    "    print(f\"File already exists at {file_path}\")"
   ]
  },
  {
   "cell_type": "markdown",
   "metadata": {},
   "source": [
    "## Read data as DataFrame"
   ]
  },
  {
   "cell_type": "code",
   "execution_count": 4,
   "metadata": {},
   "outputs": [],
   "source": [
    "# Read the CSV file and convert it to a df\n",
    "df = pd.read_csv(file_path, index_col=0)"
   ]
  },
  {
   "cell_type": "code",
   "execution_count": 5,
   "metadata": {},
   "outputs": [],
   "source": [
    "# Only keep cells from one dataset by selecting 1 donor and 1 region\n",
    "df_filtered = df[(df['donor'] == \"B012\") & (\n",
    "    df['unique_region'] == \"B012_Proximal jejunum\")]"
   ]
  },
  {
   "cell_type": "code",
   "execution_count": 6,
   "metadata": {},
   "outputs": [
    {
     "name": "stderr",
     "output_type": "stream",
     "text": [
      "C:\\Users\\abueckle\\AppData\\Local\\Temp\\1\\ipykernel_36396\\1316168077.py:1: SettingWithCopyWarning: \n",
      "A value is trying to be set on a copy of a slice from a DataFrame.\n",
      "Try using .loc[row_indexer,col_indexer] = value instead\n",
      "\n",
      "See the caveats in the documentation: https://pandas.pydata.org/pandas-docs/stable/user_guide/indexing.html#returning-a-view-versus-a-copy\n",
      "  df_filtered['Cell Type'] = df_filtered['Cell Type'].astype(str) + '_Cell Type'\n",
      "C:\\Users\\abueckle\\AppData\\Local\\Temp\\1\\ipykernel_36396\\1316168077.py:2: SettingWithCopyWarning: \n",
      "A value is trying to be set on a copy of a slice from a DataFrame.\n",
      "Try using .loc[row_indexer,col_indexer] = value instead\n",
      "\n",
      "See the caveats in the documentation: https://pandas.pydata.org/pandas-docs/stable/user_guide/indexing.html#returning-a-view-versus-a-copy\n",
      "  df_filtered['Neighborhood'] = df_filtered['Neighborhood'].astype(str) + '_Neighborhood'\n",
      "C:\\Users\\abueckle\\AppData\\Local\\Temp\\1\\ipykernel_36396\\1316168077.py:3: SettingWithCopyWarning: \n",
      "A value is trying to be set on a copy of a slice from a DataFrame.\n",
      "Try using .loc[row_indexer,col_indexer] = value instead\n",
      "\n",
      "See the caveats in the documentation: https://pandas.pydata.org/pandas-docs/stable/user_guide/indexing.html#returning-a-view-versus-a-copy\n",
      "  df_filtered['Community'] = df_filtered['Community'].astype(str) + '_Community'\n",
      "C:\\Users\\abueckle\\AppData\\Local\\Temp\\1\\ipykernel_36396\\1316168077.py:4: SettingWithCopyWarning: \n",
      "A value is trying to be set on a copy of a slice from a DataFrame.\n",
      "Try using .loc[row_indexer,col_indexer] = value instead\n",
      "\n",
      "See the caveats in the documentation: https://pandas.pydata.org/pandas-docs/stable/user_guide/indexing.html#returning-a-view-versus-a-copy\n",
      "  df_filtered['Tissue Unit'] = df_filtered['Tissue Unit'].astype(str) + '_Tissue Unit'\n"
     ]
    }
   ],
   "source": [
    "df_filtered['Cell Type'] = df_filtered['Cell Type'].astype(str) + '_Cell Type'\n",
    "df_filtered['Neighborhood'] = df_filtered['Neighborhood'].astype(str) + '_Neighborhood'\n",
    "df_filtered['Community'] = df_filtered['Community'].astype(str) + '_Community'\n",
    "df_filtered['Tissue Unit'] = df_filtered['Tissue Unit'].astype(str) + '_Tissue Unit'"
   ]
  },
  {
   "cell_type": "code",
   "execution_count": 7,
   "metadata": {},
   "outputs": [],
   "source": [
    "# Next, let's define a function that turns a DataFrame into a node list that can then be passed into the CdeVisualization or NodeDistVis widget\n",
    "def make_node_list(df:pd.DataFrame, is_3d:bool = False):\n",
    "  \"\"\"Turn a DataFrame into a list of dicts for passing them into a HRA widget\n",
    "\n",
    "  Args:\n",
    "      df (pd.DataFrame): A DataFrame with cells\n",
    "  \"\"\"\n",
    "  \n",
    "  # If the df does not have a z-axis column, let's add one and set all cells to 0\n",
    "  if not is_3d:\n",
    "    df.loc[:, ('z')] = 0\n",
    "  \n",
    "  node_list = [{'x': row['x'], 'y': row['y'], 'z': row['z'], 'Cell Type': row['combined_info']}\n",
    "                 for index, row in df.iterrows()]\n",
    "\n",
    "  return node_list\n",
    "  "
   ]
  },
  {
   "cell_type": "markdown",
   "metadata": {},
   "source": [
    "## Next, let's make four regions and visualize a 3D tissue stack."
   ]
  },
  {
   "cell_type": "markdown",
   "metadata": {},
   "source": [
    "To showcase the 3D rendering capabilities of our `CDEVisualization` widget, we will display the same section as we showed with the `NodeDistVis` widget above, but we will show it three times with an added offset along the z-axis."
   ]
  },
  {
   "cell_type": "code",
   "execution_count": 8,
   "metadata": {},
   "outputs": [],
   "source": [
    "# Create a new data frame with values from the NodeDistVis example\n",
    "df = df_filtered\n",
    "\n",
    "# indicate the number of layers you would like to show. In our case, let's show 3.\n",
    "n_layers = 4   # One layer for cell type, one for neighborhood, one for community, one for tissue unit\n",
    "\n",
    "# Create a list to hold all the data frames\n",
    "df_list = [df]\n",
    "\n",
    "for i in range(0, n_layers-1):\n",
    "\n",
    "  # Create a copy of this new DataFrame\n",
    "  df_copy = df.copy()\n",
    "\n",
    "  # Modify a column in the copied rows (e.g., change values in column 'B')\n",
    "  df_copy['unique_region'] = f'copy_{i}'  \n",
    "\n",
    "  # Add df_copy to list of df\n",
    "  df_list.append(df_copy)\n",
    "  \n",
    "# Concatenate the original DataFrame with the modified copies\n",
    "df_combined = pd.concat(df_list, ignore_index=True)\n",
    "\n",
    "df_filtered_3d = df_combined"
   ]
  },
  {
   "cell_type": "code",
   "execution_count": 9,
   "metadata": {},
   "outputs": [
    {
     "name": "stderr",
     "output_type": "stream",
     "text": [
      "C:\\Users\\abueckle\\AppData\\Local\\Temp\\1\\ipykernel_36396\\864382709.py:21: SettingWithCopyWarning: \n",
      "A value is trying to be set on a copy of a slice from a DataFrame.\n",
      "Try using .loc[row_indexer,col_indexer] = value instead\n",
      "\n",
      "See the caveats in the documentation: https://pandas.pydata.org/pandas-docs/stable/user_guide/indexing.html#returning-a-view-versus-a-copy\n",
      "  df_cells_3d['combined_info'] = combined_info\n"
     ]
    }
   ],
   "source": [
    "# Set a z-offset\n",
    "offset = 2500\n",
    "\n",
    "# Set z axis (or any other axis) by region\n",
    "df_filtered_3d['z'] = df_filtered_3d['unique_region'].apply(lambda v: 0 if v == 'B012_Proximal jejunum'\n",
    "                                                            else offset if v == 'copy_0'\n",
    "                                                            else offset * 2 if v == 'copy_1'\n",
    "                                                            else offset * 3\n",
    "                                                            )\n",
    "\n",
    "# Make new df with only x, y, z, Cell Type, and Neighborhood columns\n",
    "df_cells_3d = df_filtered_3d[['x', 'y', 'z', 'Cell Type', 'Neighborhood', 'Community', 'Tissue Unit']]\n",
    "\n",
    "cell_type_z0 = df_cells_3d[df_cells_3d['z'] == 0]['Cell Type']\n",
    "neighborhood_z1 = df_cells_3d[df_cells_3d['z'] == offset]['Neighborhood']\n",
    "community_z2 = df_cells_3d[df_cells_3d['z'] == offset *2]['Community']\n",
    "tissueunit_z3 = df_cells_3d[df_cells_3d['z'] == offset *3]['Tissue Unit']\n",
    "\n",
    "combined_info = pd.concat([cell_type_z0, neighborhood_z1, community_z2, tissueunit_z3])\n",
    "\n",
    "df_cells_3d['combined_info'] = combined_info\n",
    "\n",
    "df_cells_3d_filtered = df_cells_3d[['x', 'y', 'z', 'combined_info']]"
   ]
  },
  {
   "cell_type": "markdown",
   "metadata": {},
   "source": [
    "# Display"
   ]
  },
  {
   "cell_type": "code",
   "execution_count": 10,
   "metadata": {},
   "outputs": [],
   "source": [
    "node_list = make_node_list(df_cells_3d_filtered, True)\n",
    "edge_list = [[\"Cell ID\",\"Target ID\", \"X1\", \"Y1\", \"Z1\", \"X2\", \"Y2\", \"Z2\"]] # this makes an empty edges list"
   ]
  },
  {
   "cell_type": "code",
   "execution_count": 11,
   "metadata": {},
   "outputs": [
    {
     "data": {
      "application/vnd.jupyter.widget-view+json": {
       "model_id": "36814b8d81e048b0b0502e0470f185e7",
       "version_major": 2,
       "version_minor": 1
      },
      "text/plain": [
       "CdeVisualization(age=None, color_map=None, color_map_key=None, color_map_value_key=None, creation_timestamp=No…"
      ]
     },
     "metadata": {},
     "output_type": "display_data"
    }
   ],
   "source": [
    "# Finally, let's instantiate the CDEVisualization class with our node_list as parameter.\n",
    "cde = CdeVisualization(\n",
    "    nodes=node_list,\n",
    "    node_target_key = \"Cell Type\",\n",
    "    edges=edge_list,\n",
    ")\n",
    "\n",
    "# Display our new widget\n",
    "display(cde)"
   ]
  },
  {
   "cell_type": "markdown",
   "metadata": {},
   "source": [
    "## Cull amount of data exported"
   ]
  },
  {
   "cell_type": "code",
   "execution_count": 13,
   "metadata": {},
   "outputs": [],
   "source": [
    "cull_data = False #cull data?\n",
    "n = 10 #keep every nth row\n",
    "\n",
    "if cull_data:\n",
    "  df_cells_3d_filtered = df_cells_3d[['x', 'y', 'z', 'combined_info']]\n",
    "  n = 10\n",
    "  df_nth = df_cells_3d_filtered.iloc[::n]\n",
    "  df_cells_3d_filtered = df_nth\n",
    "  print(f\"df_cells_3d_filtered has length {len(df_cells_3d_filtered)}.\")\n",
    "  print(df_cells_3d_filtered)"
   ]
  },
  {
   "cell_type": "markdown",
   "metadata": {},
   "source": [
    "# Prepare data for export and use in HRA Organ Gallery"
   ]
  },
  {
   "cell_type": "code",
   "execution_count": 14,
   "metadata": {},
   "outputs": [
    {
     "data": {
      "text/html": [
       "<div>\n",
       "<style scoped>\n",
       "    .dataframe tbody tr th:only-of-type {\n",
       "        vertical-align: middle;\n",
       "    }\n",
       "\n",
       "    .dataframe tbody tr th {\n",
       "        vertical-align: top;\n",
       "    }\n",
       "\n",
       "    .dataframe thead th {\n",
       "        text-align: right;\n",
       "    }\n",
       "</style>\n",
       "<table border=\"1\" class=\"dataframe\">\n",
       "  <thead>\n",
       "    <tr style=\"text-align: right;\">\n",
       "      <th></th>\n",
       "      <th>x</th>\n",
       "      <th>y</th>\n",
       "      <th>z</th>\n",
       "      <th>combined_info</th>\n",
       "    </tr>\n",
       "  </thead>\n",
       "  <tbody>\n",
       "    <tr>\n",
       "      <th>0</th>\n",
       "      <td>7109.0</td>\n",
       "      <td>7160.0</td>\n",
       "      <td>0</td>\n",
       "      <td>Cycling TA_Cell Type</td>\n",
       "    </tr>\n",
       "    <tr>\n",
       "      <th>1</th>\n",
       "      <td>4803.0</td>\n",
       "      <td>55.0</td>\n",
       "      <td>0</td>\n",
       "      <td>Cycling TA_Cell Type</td>\n",
       "    </tr>\n",
       "    <tr>\n",
       "      <th>2</th>\n",
       "      <td>7203.0</td>\n",
       "      <td>7413.0</td>\n",
       "      <td>0</td>\n",
       "      <td>Cycling TA_Cell Type</td>\n",
       "    </tr>\n",
       "    <tr>\n",
       "      <th>3</th>\n",
       "      <td>424.0</td>\n",
       "      <td>1437.0</td>\n",
       "      <td>0</td>\n",
       "      <td>Cycling TA_Cell Type</td>\n",
       "    </tr>\n",
       "    <tr>\n",
       "      <th>4</th>\n",
       "      <td>93.0</td>\n",
       "      <td>344.0</td>\n",
       "      <td>0</td>\n",
       "      <td>Cycling TA_Cell Type</td>\n",
       "    </tr>\n",
       "    <tr>\n",
       "      <th>...</th>\n",
       "      <td>...</td>\n",
       "      <td>...</td>\n",
       "      <td>...</td>\n",
       "      <td>...</td>\n",
       "    </tr>\n",
       "    <tr>\n",
       "      <th>130075</th>\n",
       "      <td>7604.0</td>\n",
       "      <td>6824.0</td>\n",
       "      <td>7500</td>\n",
       "      <td>Mucosa_Tissue Unit</td>\n",
       "    </tr>\n",
       "    <tr>\n",
       "      <th>130076</th>\n",
       "      <td>664.0</td>\n",
       "      <td>4597.0</td>\n",
       "      <td>7500</td>\n",
       "      <td>Muscularis externa_Tissue Unit</td>\n",
       "    </tr>\n",
       "    <tr>\n",
       "      <th>130077</th>\n",
       "      <td>5695.0</td>\n",
       "      <td>4301.0</td>\n",
       "      <td>7500</td>\n",
       "      <td>Mucosa_Tissue Unit</td>\n",
       "    </tr>\n",
       "    <tr>\n",
       "      <th>130078</th>\n",
       "      <td>61.0</td>\n",
       "      <td>3230.0</td>\n",
       "      <td>7500</td>\n",
       "      <td>Muscularis externa_Tissue Unit</td>\n",
       "    </tr>\n",
       "    <tr>\n",
       "      <th>130079</th>\n",
       "      <td>7063.0</td>\n",
       "      <td>2809.0</td>\n",
       "      <td>7500</td>\n",
       "      <td>Mucosa_Tissue Unit</td>\n",
       "    </tr>\n",
       "  </tbody>\n",
       "</table>\n",
       "<p>130080 rows × 4 columns</p>\n",
       "</div>"
      ],
      "text/plain": [
       "             x       y     z                   combined_info\n",
       "0       7109.0  7160.0     0            Cycling TA_Cell Type\n",
       "1       4803.0    55.0     0            Cycling TA_Cell Type\n",
       "2       7203.0  7413.0     0            Cycling TA_Cell Type\n",
       "3        424.0  1437.0     0            Cycling TA_Cell Type\n",
       "4         93.0   344.0     0            Cycling TA_Cell Type\n",
       "...        ...     ...   ...                             ...\n",
       "130075  7604.0  6824.0  7500              Mucosa_Tissue Unit\n",
       "130076   664.0  4597.0  7500  Muscularis externa_Tissue Unit\n",
       "130077  5695.0  4301.0  7500              Mucosa_Tissue Unit\n",
       "130078    61.0  3230.0  7500  Muscularis externa_Tissue Unit\n",
       "130079  7063.0  2809.0  7500              Mucosa_Tissue Unit\n",
       "\n",
       "[130080 rows x 4 columns]"
      ]
     },
     "execution_count": 14,
     "metadata": {},
     "output_type": "execute_result"
    }
   ],
   "source": [
    "df_cells_3d_filtered"
   ]
  },
  {
   "cell_type": "code",
   "execution_count": 15,
   "metadata": {},
   "outputs": [
    {
     "name": "stdout",
     "output_type": "stream",
     "text": [
      "Exported df_Cell Type.csv with 3252 rows\n",
      "Exported df_Neighborhood.csv with 3252 rows\n",
      "Exported df_Community.csv with 3252 rows\n",
      "Exported df_Tissue Unit.csv with 3252 rows\n"
     ]
    }
   ],
   "source": [
    "n = 10  # keep every nth row\n",
    "\n",
    "# separate into 4 dfs\n",
    "df_list = []\n",
    "\n",
    "# get dfs\n",
    "levels = ['Cell Type', 'Neighborhood', 'Community', 'Tissue Unit']\n",
    "\n",
    "df_cells_3d_filtered\n",
    "\n",
    "for l in levels:\n",
    "  df_list.append(df_cells_3d_filtered[df_cells_3d_filtered['combined_info'].str.contains(l, case=False, na=False)][::n])\n",
    "\n",
    "# export all\n",
    "counter = 0\n",
    "for df in df_list:\n",
    "  appendix = \"\"\n",
    "  last_column_name = df.columns[-1]  # Get the last column name\n",
    "  # print(df_list.index(df))\n",
    "  file_name = f\"df_{levels[counter]}.csv\"  # Create a dynamic file name\n",
    "  df.to_csv(f\"data/output/{file_name}\", index=False)  # Export the DataFrame to CSV\n",
    "  print(f\"Exported {file_name} with {len(df)} rows\")\n",
    "  counter = counter + 1 "
   ]
  }
 ],
 "metadata": {
  "kernelspec": {
   "display_name": ".venv",
   "language": "python",
   "name": "python3"
  },
  "language_info": {
   "codemirror_mode": {
    "name": "ipython",
    "version": 3
   },
   "file_extension": ".py",
   "mimetype": "text/x-python",
   "name": "python",
   "nbconvert_exporter": "python",
   "pygments_lexer": "ipython3",
   "version": "3.12.4"
  }
 },
 "nbformat": 4,
 "nbformat_minor": 2
}
